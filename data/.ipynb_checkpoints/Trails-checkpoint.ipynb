{
 "cells": [
  {
   "cell_type": "code",
   "execution_count": 1,
   "metadata": {},
   "outputs": [],
   "source": [
    "# !conda install -c conda-forge opencv -y\n",
    "# !conda install -c anaconda csvkit"
   ]
  },
  {
   "cell_type": "code",
   "execution_count": 2,
   "metadata": {},
   "outputs": [],
   "source": [
    "import cv2\n",
    "# import torch\n",
    "import numpy as np"
   ]
  },
  {
   "cell_type": "code",
   "execution_count": 7,
   "metadata": {},
   "outputs": [],
   "source": [
    "def run_video(path):\n",
    "    capture = cv2.VideoCapture(path)\n",
    "    \n",
    "    # Storage for optical flow\n",
    "    flows_1 = np.array([])\n",
    "    flows_2 = np.array([])\n",
    "    \n",
    "    # Reading the first frame\n",
    "    _, frame1 = capture.read()\n",
    "    \n",
    "    # Convert to gray scale\n",
    "    prvs = cv2.cvtColor(frame1, cv2.COLOR_BGR2GRAY)\n",
    "    \n",
    "    # Create mask\n",
    "    hsv_mask = np.zeros_like(frame1)\n",
    "    \n",
    "    # Make image saturation to a maximum value\n",
    "    hsv_mask[..., 1] = 255\n",
    "\n",
    "    i = 0\n",
    "    \n",
    "    # Till you scan the video\n",
    "    while(1):\n",
    "                \n",
    "        # Capture another frame and convert to gray scale\n",
    "        _, frame2 = capture.read()\n",
    "        \n",
    "        \n",
    "        next = cv2.cvtColor(frame2, cv2.COLOR_BGR2GRAY)\n",
    "        print(next.shape)\n",
    "\n",
    "        # Optical flow is now calculated\n",
    "        flow = cv2.calcOpticalFlowFarneback(prvs, next, None, 0.5, 3, 15, 3, 5, 1.2, 0)\n",
    "        print(flow.shape)\n",
    "        \n",
    "        \n",
    "        # Compute magnite and angle of 2D vector\n",
    "        mag, ang = cv2.cartToPolar(flow[..., 0], flow[..., 1])\n",
    "        \n",
    "        #Storing all information (flow, magnitude, angle)\n",
    "        flow1, flow2 = flow[:, :, 0], flow[:, :, 1]\n",
    "        print(flow1.shape, flow2.shape)\n",
    "        \n",
    "        \n",
    "        # Set image hue value according to the angle of optical flow\n",
    "        hsv_mask[..., 0] = ang * 180 / np.pi / 2\n",
    "        \n",
    "        # Set value as per the normalized magnitude of optical flow\n",
    "        hsv_mask[..., 2] = cv2.normalize(mag, None, 0, 255, cv2.NORM_MINMAX)\n",
    "        \n",
    "        # Convert to rgb\n",
    "        rgb_representation = cv2.cvtColor(hsv_mask, cv2.COLOR_HSV2BGR)\n",
    "\n",
    "        cv2.imshow('flow1', flow1)\n",
    "        cv2.imshow('flow2', flow2)\n",
    "        \n",
    "        cv2.imwrite('./flow1_image_%d.jpg' % i, flow1)\n",
    "        cv2.imwrite('./flow2_image_%d.jpg' % i, flow2)\n",
    "        \n",
    "        kk = cv2.waitKey(500) & 0xff\n",
    "        # Press 'e' to exit the video\n",
    "#         if kk == ord('e'):\n",
    "#             break\n",
    "#         # Press 's' to save the video\n",
    "#         elif kk == ord('s'):\n",
    "#             cv2.imwrite('Optical_image.png', frame2)\n",
    "#             cv2.imwrite('HSV_converted_image.png', rgb_representation)\n",
    "        i += 1\n",
    "        prvs = next\n",
    "    \n",
    "    capture.release()\n",
    "    cv2.destroyAllWindows()\n",
    "    \n",
    "    return flows\n"
   ]
  },
  {
   "cell_type": "code",
   "execution_count": 8,
   "metadata": {
    "scrolled": true
   },
   "outputs": [
    {
     "name": "stdout",
     "output_type": "stream",
     "text": [
      "(64, 64)\n",
      "(64, 64, 2)\n",
      "(64, 64) (64, 64)\n",
      "(64, 64)\n",
      "(64, 64, 2)\n",
      "(64, 64) (64, 64)\n",
      "(64, 64)\n",
      "(64, 64, 2)\n",
      "(64, 64) (64, 64)\n",
      "(64, 64)\n",
      "(64, 64, 2)\n",
      "(64, 64) (64, 64)\n",
      "(64, 64)\n",
      "(64, 64, 2)\n",
      "(64, 64) (64, 64)\n",
      "(64, 64)\n",
      "(64, 64, 2)\n",
      "(64, 64) (64, 64)\n",
      "(64, 64)\n",
      "(64, 64, 2)\n",
      "(64, 64) (64, 64)\n",
      "(64, 64)\n",
      "(64, 64, 2)\n",
      "(64, 64) (64, 64)\n",
      "(64, 64)\n",
      "(64, 64, 2)\n",
      "(64, 64) (64, 64)\n",
      "(64, 64)\n",
      "(64, 64, 2)\n",
      "(64, 64) (64, 64)\n",
      "(64, 64)\n",
      "(64, 64, 2)\n",
      "(64, 64) (64, 64)\n"
     ]
    },
    {
     "ename": "error",
     "evalue": "OpenCV(4.5.3) D:\\bld\\libopencv_1630689687255\\work\\modules\\imgproc\\src\\color.cpp:182: error: (-215:Assertion failed) !_src.empty() in function 'cv::cvtColor'\n",
     "output_type": "error",
     "traceback": [
      "\u001b[1;31m---------------------------------------------------------------------------\u001b[0m",
      "\u001b[1;31merror\u001b[0m                                     Traceback (most recent call last)",
      "\u001b[1;32m~\\AppData\\Local\\Temp/ipykernel_13352/1221293766.py\u001b[0m in \u001b[0;36m<module>\u001b[1;34m\u001b[0m\n\u001b[1;32m----> 1\u001b[1;33m \u001b[0mflows\u001b[0m \u001b[1;33m=\u001b[0m \u001b[0mrun_video\u001b[0m\u001b[1;33m(\u001b[0m\u001b[1;34m'./circle_noise1.avi'\u001b[0m\u001b[1;33m)\u001b[0m\u001b[1;33m\u001b[0m\u001b[1;33m\u001b[0m\u001b[0m\n\u001b[0m",
      "\u001b[1;32m~\\AppData\\Local\\Temp/ipykernel_13352/107656480.py\u001b[0m in \u001b[0;36mrun_video\u001b[1;34m(path)\u001b[0m\n\u001b[0;32m     27\u001b[0m \u001b[1;33m\u001b[0m\u001b[0m\n\u001b[0;32m     28\u001b[0m \u001b[1;33m\u001b[0m\u001b[0m\n\u001b[1;32m---> 29\u001b[1;33m         \u001b[0mnext\u001b[0m \u001b[1;33m=\u001b[0m \u001b[0mcv2\u001b[0m\u001b[1;33m.\u001b[0m\u001b[0mcvtColor\u001b[0m\u001b[1;33m(\u001b[0m\u001b[0mframe2\u001b[0m\u001b[1;33m,\u001b[0m \u001b[0mcv2\u001b[0m\u001b[1;33m.\u001b[0m\u001b[0mCOLOR_BGR2GRAY\u001b[0m\u001b[1;33m)\u001b[0m\u001b[1;33m\u001b[0m\u001b[1;33m\u001b[0m\u001b[0m\n\u001b[0m\u001b[0;32m     30\u001b[0m         \u001b[0mprint\u001b[0m\u001b[1;33m(\u001b[0m\u001b[0mnext\u001b[0m\u001b[1;33m.\u001b[0m\u001b[0mshape\u001b[0m\u001b[1;33m)\u001b[0m\u001b[1;33m\u001b[0m\u001b[1;33m\u001b[0m\u001b[0m\n\u001b[0;32m     31\u001b[0m \u001b[1;33m\u001b[0m\u001b[0m\n",
      "\u001b[1;31merror\u001b[0m: OpenCV(4.5.3) D:\\bld\\libopencv_1630689687255\\work\\modules\\imgproc\\src\\color.cpp:182: error: (-215:Assertion failed) !_src.empty() in function 'cv::cvtColor'\n"
     ]
    }
   ],
   "source": [
    "flows = run_video('./circle_noise1.avi')\n"
   ]
  },
  {
   "cell_type": "code",
   "execution_count": null,
   "metadata": {},
   "outputs": [],
   "source": []
  }
 ],
 "metadata": {
  "kernelspec": {
   "display_name": "Python 3",
   "language": "python",
   "name": "python3"
  },
  "language_info": {
   "codemirror_mode": {
    "name": "ipython",
    "version": 3
   },
   "file_extension": ".py",
   "mimetype": "text/x-python",
   "name": "python",
   "nbconvert_exporter": "python",
   "pygments_lexer": "ipython3",
   "version": "3.8.5"
  }
 },
 "nbformat": 4,
 "nbformat_minor": 5
}
