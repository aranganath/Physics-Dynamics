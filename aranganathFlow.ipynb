{
 "cells": [
  {
   "cell_type": "code",
   "execution_count": 17,
   "metadata": {
    "gradient": {
     "editing": false
    }
   },
   "outputs": [],
   "source": [
    "# Author: Aditya Ranganath\n",
    "# Subject: Exploring optical flow and predicting frames based on Taylor expansion \n",
    "\n",
    "import cv2\n",
    "import torch\n",
    "import numpy as np\n",
    "import matplotlib.pyplot as plt\n",
    "import matplotlib.image as image"
   ]
  },
  {
   "cell_type": "code",
   "execution_count": 81,
   "metadata": {},
   "outputs": [],
   "source": [
    "cap = cv2.VideoCapture('./data/circle_noise1.avi')\n",
    "\n",
    "# We know the frame rate for the video is 10 fps\n",
    "deltat = 1/10\n",
    "\n",
    "# Compute the flow of two images and the compute then flow of flow with two flows\n",
    "# For that, extract one image from flow\n",
    "# then extract the next images in the loop\n",
    "\n",
    "_, prev= cap.read()\n",
    "\n",
    "Iot = prev\n",
    "\n",
    "hsv_mask = np.zeros_like(prev)\n",
    "\n",
    "prev = cv2.cvtColor(prev, cv2.COLOR_BGR2GRAY)\n",
    "\n",
    "flowl = []\n",
    "for i in range(2):    \n",
    "    # we need only only flow sample and one flow of flow sample\n",
    "    _, next = cap.read()\n",
    "\n",
    "    hsv_mask = np.zeros_like(next)\n",
    "\n",
    "    # Calculate the flow for a Black and white render\n",
    "    next = cv2.cvtColor(next, cv2.COLOR_BGR2GRAY)\n",
    "\n",
    "    #Compute the flow for these two images\n",
    "    flow = cv2.calcOpticalFlowFarneback(prev, next, 2, levels=20, winsize=1, iterations=5, poly_n=1,poly_sigma=1.2, flags=0, pyr_scale=0.5)\n",
    "\n",
    "    # Compute magnite and angle of 2D vector\n",
    "    mag, ang = cv2.cartToPolar(flow[..., 0], flow[..., 1])\n",
    "\n",
    "    # Set value as per the normalized magnitude of optical flow\n",
    "    hsv_mask[..., 2] = cv2.normalize(mag, None, 0, 255, cv2.NORM_MINMAX)\n",
    "\n",
    "    # Set image hue value according to the angle of optical flow\n",
    "    hsv_mask[..., 0] = ang * 180 / np.pi / 2\n",
    "\n",
    "    # Convert to rgb\n",
    "    rgb_representation = cv2.cvtColor(hsv_mask, cv2.COLOR_HSV2BGR)\n",
    "\n",
    "    # Append to flow list\n",
    "    flowl.append(rgb_representation)\n",
    "\n",
    "    prev = next\n",
    "\n",
    "    hsv_mask = np.zeros_like(prev)\n",
    "\n",
    "# Now compute the initial flow of flow\n",
    "fflow = cv2.calcOpticalFlowFarneback(cv2.cvtColor(flowl[0], cv2.COLOR_BGR2GRAY), cv2.cvtColor(flowl[1], cv2.COLOR_BGR2GRAY), 2, levels=20, winsize=60, iterations=5, poly_n=1,poly_sigma=1.2, flags=0, pyr_scale=0.1)\n",
    "\n",
    "# Compute magnite and angle of 2D vector\n",
    "mag, ang = cv2.cartToPolar(fflow[..., 0], fflow[..., 1])\n",
    "\n",
    "#Set the mask to zero again\n",
    "hsv_mask = np.zeros_like(flowl[0])\n",
    "\n",
    "# Set value as per the normalized magnitude of optical flow\n",
    "hsv_mask[..., 2] = cv2.normalize(mag, None, 0, 255, cv2.NORM_MINMAX)\n",
    "\n",
    "# Now that we have the flow and flow of flows, lets calculate the Image!\n",
    "# The formulation for the image is given by\n",
    "# I(t + \\Delta t) = I(t) + \\Delta t * flow[0] + \\frac{1}{2} \\Delta t^2 fflow[0]\n",
    "\n",
    "# Convert to rgb\n",
    "fflow = cv2.cvtColor(hsv_mask, cv2.COLOR_HSV2BGR)\n",
    "\n",
    "# Computing the next frame\n",
    "Idt = lambda dt: Iot + flowl[1]*deltat + 0.5*fflow*deltat**2\n",
    "\n",
    "# Save to a list and return\n",
    "Idtl = []\n",
    "\n",
    "# Release and reset\n",
    "cap.release()\n",
    "\n",
    "# Read the file again to reset\n",
    "cap = cv2.VideoCapture('./data/circle_noise1.avi')\n",
    "\n",
    "#The new sampling rate\n",
    "newdeltat = 1/20\n",
    "\n",
    "i = 0\n",
    "\n",
    "for j in range(200):\n",
    "    try:\n",
    "        _, Iot = cap.read()\n",
    "        Idtl.append(Iot)\n",
    "        for i in range(2):\n",
    "            weight = np.uint8(0.5)\n",
    "            Inext = Idt((i+1)*newdeltat)\n",
    "            # weighted sum between frames\n",
    "            mid_frame = cv2.addWeighted(np.uint8(Iot),np.uint8(weight),np.uint8(Inext),1-weight,0)\n",
    "            Idtl.append(mid_frame)\n",
    "            Idtl.append(np.uint8(Inext))\n",
    "            i=i+1\n",
    "            Iot= mid_frame\n",
    "    except:\n",
    "        break"
   ]
  },
  {
   "cell_type": "code",
   "execution_count": 82,
   "metadata": {},
   "outputs": [],
   "source": [
    "fourcc = cv2.VideoWriter_fourcc(*'MP42')\n",
    "FPS = 40\n",
    "width, height = 64,64\n",
    "import numpy as np\n",
    "video = cv2.VideoWriter('./data/circle_noise_restored.avi', fourcc, float(FPS), (width, height))\n",
    "\n",
    "for frame in Idtl:\n",
    "    try:\n",
    "        video.write(frame)\n",
    "    except:\n",
    "        set_trace()\n",
    "video.release()"
   ]
  },
  {
   "cell_type": "code",
   "execution_count": 80,
   "metadata": {},
   "outputs": [
    {
     "data": {
      "text/plain": [
       "<matplotlib.image.AxesImage at 0x7fe15f8bfdc0>"
      ]
     },
     "execution_count": 80,
     "metadata": {},
     "output_type": "execute_result"
    },
    {
     "data": {
      "image/png": "[encoded data removed]",
      "text/plain": [
       "<Figure size 432x288 with 1 Axes>"
      ]
     },
     "metadata": {
      "needs_background": "light"
     },
     "output_type": "display_data"
    }
   ],
   "source": [
    "# cv2.imshow('flowoflfow',fflow)\n",
    "import matplotlib.pyplot as plt\n",
    "plt.imshow(fflow)\n",
    "# plt.imshow(flowl[1])"
   ]
  },
  {
   "cell_type": "code",
   "execution_count": null,
   "metadata": {},
   "outputs": [],
   "source": []
  }
 ],
 "metadata": {
  "kernelspec": {
   "display_name": "Python 3",
   "language": "python",
   "name": "python3"
  },
  "language_info": {
   "codemirror_mode": {
    "name": "ipython",
    "version": 3
   },
   "file_extension": ".py",
   "mimetype": "text/x-python",
   "name": "python",
   "nbconvert_exporter": "python",
   "pygments_lexer": "ipython3",
   "version": "3.8.5"
  }
 },
 "nbformat": 4,
 "nbformat_minor": 5
}
