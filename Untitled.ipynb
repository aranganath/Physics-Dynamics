{
 "cells": [
  {
   "cell_type": "code",
   "execution_count": 1,
   "metadata": {},
   "outputs": [],
   "source": [
    "# Importing libraries\n",
    "import cv2\n",
    "import numpy as np\n",
    "# Capturing the video file 0 for videocam else you can provide the url\n",
    "capture = cv2.VideoCapture(\"./data/circle_noise1.avi\")\n",
    "  \n",
    "# Reading the first frame\n",
    "_, frame1 = capture.read()\n",
    "# Convert to gray scale\n",
    "prvs = cv2.cvtColor(frame1, cv2.COLOR_BGR2GRAY)\n",
    "# Create mask\n",
    "hsv_mask = np.zeros_like(frame1)\n",
    "# Make image saturation to a maximum value\n",
    "hsv_mask[..., 1] = 255\n",
    "  \n",
    "# Till you scan the video\n",
    "while(1):\n",
    "      \n",
    "    # Capture another frame and convert to gray scale\n",
    "    try:\n",
    "        _, frame2 = capture.read()\n",
    "        next = cv2.cvtColor(frame2, cv2.COLOR_BGR2GRAY)\n",
    "    except:\n",
    "        break\n",
    "    \n",
    "  \n",
    "    # Optical flow is now calculated\n",
    "    flow = cv2.calcOpticalFlowFarneback(prvs, next, None, 0.5, 3, 15, 3, 5, 1.2, 0)\n",
    "    \n",
    "    # Compute magnite and angle of 2D vector\n",
    "    mag, ang = cv2.cartToPolar(flow[..., 0], flow[..., 1])\n",
    "    \n",
    "    # Set image hue value according to the angle of optical flow\n",
    "    hsv_mask[..., 0] = ang * 180 / np.pi / 2\n",
    "    \n",
    "    # Set value as per the normalized magnitude of optical flow\n",
    "    hsv_mask[..., 2] = cv2.normalize(mag, None, 0, 255, cv2.NORM_MINMAX)\n",
    "    \n",
    "    \n",
    "  \n",
    "    cv2.imshow('frame2', rgb_representation)\n",
    "    kk = cv2.waitKey(20) & 0xff\n",
    "    # Press 'e' to exit the video\n",
    "    if kk == ord('e'):\n",
    "        break\n",
    "    # Press 's' to save the video\n",
    "    elif kk == ord('s'):\n",
    "        cv2.imwrite('Optical_image.png', frame2)\n",
    "        cv2.imwrite('HSV_converted_image.png', rgb_representation)\n",
    "    prvs = next\n",
    "  \n",
    "capture.release()\n",
    "cv2.destroyAllWindows()"
   ]
  },
  {
   "cell_type": "code",
   "execution_count": null,
   "metadata": {},
   "outputs": [],
   "source": []
  }
 ],
 "metadata": {
  "kernelspec": {
   "display_name": "Python 3",
   "language": "python",
   "name": "python3"
  },
  "language_info": {
   "codemirror_mode": {
    "name": "ipython",
    "version": 3
   },
   "file_extension": ".py",
   "mimetype": "text/x-python",
   "name": "python",
   "nbconvert_exporter": "python",
   "pygments_lexer": "ipython3",
   "version": "3.8.5"
  }
 },
 "nbformat": 4,
 "nbformat_minor": 4
}
