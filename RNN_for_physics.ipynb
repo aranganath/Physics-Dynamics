{
 "cells": [
  {
   "cell_type": "code",
   "execution_count": 1,
   "metadata": {},
   "outputs": [],
   "source": [
    "import cv2\n",
    "import numpy as np\n",
    "from cv2 import VideoWriter, VideoWriter_fourcc\n",
    "from pdb import set_trace\n",
    "import matplotlib.pyplot as plt\n",
    "import torch\n",
    "import torch.nn as nn\n",
    "from pdb import set_trace"
   ]
  },
  {
   "cell_type": "code",
   "execution_count": 2,
   "metadata": {},
   "outputs": [],
   "source": [
    "def GenerateData():\n",
    "    width = 64\n",
    "    height = 64\n",
    "    seconds = 10\n",
    "    radius = 1\n",
    "    FPS=24\n",
    "    paint_h = int(height/2)\n",
    "    VideoData = []\n",
    "    fourcc = VideoWriter_fourcc(*'MP42')\n",
    "    video = VideoWriter('./data/circle_noise1.avi', fourcc, float(FPS), (width, height))\n",
    "\n",
    "    #Design the testing data\n",
    "    for paint_x in range(-radius, (width+radius+1), 1):\n",
    "        frame = 255*np.ones((height, width), dtype=np.uint8)\n",
    "        cv2.circle(frame, (paint_x, paint_h), radius, (0, 0, 0), -1)\n",
    "        video.write(cv2.cvtColor(frame,cv2.COLOR_GRAY2BGR))\n",
    "        VideoData.append(frame)\n",
    "        \n",
    "    video.release()\n",
    "\n",
    "    VideoTrain = np.stack(VideoData, axis=0)\n",
    "\n",
    "#     for paint_x in range(-radius, width+radius+1, 2):\n",
    "#         frame = 255*np.ones( \n",
    "#                        (height, width), \n",
    "#                                   dtype=np.double)\n",
    "#         cv2.circle(frame, (paint_x, paint_h), radius, (0, 0), -1)\n",
    "#         VideoData.append(frame)\n",
    "\n",
    "#     VideoTest = np.stack(VideoData, axis=0)\n",
    "\n",
    "    return torch.tensor(VideoTrain,dtype=torch.float)"
   ]
  },
  {
   "cell_type": "code",
   "execution_count": 3,
   "metadata": {},
   "outputs": [
    {
     "name": "stdout",
     "output_type": "stream",
     "text": [
      "67\n",
      "66\n",
      "66\n"
     ]
    }
   ],
   "source": [
    "VideoTrain = GenerateData()\n",
    "index = 50\n",
    "print(VideoTrain.shape[0])\n",
    "VideoIn = VideoTrain[:-1]\n",
    "VideoOut = VideoTrain[1:]\n",
    "print(VideoIn.shape[0])\n",
    "print(VideoOut.shape[0])"
   ]
  },
  {
   "cell_type": "code",
   "execution_count": 18,
   "metadata": {},
   "outputs": [],
   "source": [
    "#Define the architecture for the RNN\n",
    "from pdb import set_trace\n",
    "class RNN(nn.Module):\n",
    "    def __init__(self, dt, height, width, frames):\n",
    "        super(RNN, self).__init__()\n",
    "        self.dt = dt\n",
    "        self.height = height\n",
    "        self.width = width\n",
    "        self.W = nn.Parameter(255*torch.zeros(height, width))\n",
    "        self.b = nn.Parameter(255*torch.zeros(height, width))\n",
    "        self.frames = frames\n",
    "        \n",
    "    def forward(self,X, frames, flag):\n",
    "        # Make the dynamics here\n",
    "        # Extract the image of the object\n",
    "        # Define the parameters for the new position\n",
    "        # Predict the object there\n",
    "        output = []\n",
    "        output_prof = []\n",
    "        inp = X[0]\n",
    "        \n",
    "        for i in range(frames):\n",
    "            #Extract the indices of the object\n",
    "            param = torch.matmul(self.W, inp) + self.b\n",
    "            genframe = param + self.dt*param\n",
    "            \n",
    "            if(flag):\n",
    "                proforce = torch.matmul(self.W, X) + self.b\n",
    "                frame = proforce + self.dt*proforce\n",
    "                output_prof.append(frame)\n",
    "            \n",
    "            if(i == frames-1):\n",
    "                flag=False\n",
    "                \n",
    "            output.append(genframe)\n",
    "            inp = genframe\n",
    "            \n",
    "        return torch.stack(output, axis=0), torch.stack(output_prof,axis=0)"
   ]
  },
  {
   "cell_type": "code",
   "execution_count": 19,
   "metadata": {},
   "outputs": [],
   "source": [
    "class Discriminator(nn.Module):\n",
    "    def __init__(self):\n",
    "        super(Discriminator, self).__init__(frames, height, width)\n",
    "        self.W = nn.Parameter(255*torch.zeros(frames, height, width))\n",
    "        self.b = nn.Parameter(255*torch.zeros(frames, height, width))\n",
    "    def forward(self,X):\n",
    "        for i in range(X.shape[0]):\n",
    "            render = torch.matmul(self.W, X) + self.b\n",
    "            output.append(render)\n",
    "            \n",
    "        return torch.stack(output, axis=0)"
   ]
  },
  {
   "cell_type": "code",
   "execution_count": 20,
   "metadata": {},
   "outputs": [],
   "source": [
    "rnn = RNN(1/24, 64,64, 66)\n",
    "optimizer = torch.optim.Adam(rnn.parameters(), lr=1e-5)\n",
    "n_epochs = 100000\n",
    "delay = 5\n",
    "lossfn = nn.MSELoss()"
   ]
  },
  {
   "cell_type": "code",
   "execution_count": 25,
   "metadata": {
    "scrolled": true
   },
   "outputs": [
    {
     "name": "stdout",
     "output_type": "stream",
     "text": [
      "8806.8359375\n",
      "1266.11767578125\n",
      "12241.0419921875\n",
      "24010.4296875\n",
      "32898.5390625\n",
      "39175.88671875\n",
      "43637.14453125\n",
      "46902.390625\n",
      "49377.55859375\n",
      "51318.8125\n"
     ]
    },
    {
     "ename": "KeyboardInterrupt",
     "evalue": "",
     "output_type": "error",
     "traceback": [
      "\u001b[0;31m---------------------------------------------------------------------------\u001b[0m",
      "\u001b[0;31mKeyboardInterrupt\u001b[0m                         Traceback (most recent call last)",
      "\u001b[0;32m<ipython-input-25-5b9194a48186>\u001b[0m in \u001b[0;36m<module>\u001b[0;34m\u001b[0m\n\u001b[1;32m      1\u001b[0m \u001b[0;32mfor\u001b[0m \u001b[0mi\u001b[0m \u001b[0;32min\u001b[0m \u001b[0mrange\u001b[0m\u001b[0;34m(\u001b[0m\u001b[0mn_epochs\u001b[0m\u001b[0;34m)\u001b[0m\u001b[0;34m:\u001b[0m\u001b[0;34m\u001b[0m\u001b[0;34m\u001b[0m\u001b[0m\n\u001b[0;32m----> 2\u001b[0;31m     \u001b[0moutput\u001b[0m\u001b[0;34m,\u001b[0m \u001b[0moutput_prof\u001b[0m \u001b[0;34m=\u001b[0m \u001b[0mrnn\u001b[0m\u001b[0;34m(\u001b[0m\u001b[0mVideoIn\u001b[0m\u001b[0;34m,\u001b[0m \u001b[0;36m66\u001b[0m\u001b[0;34m,\u001b[0m \u001b[0;32mTrue\u001b[0m\u001b[0;34m)\u001b[0m\u001b[0;34m\u001b[0m\u001b[0;34m\u001b[0m\u001b[0m\n\u001b[0m\u001b[1;32m      3\u001b[0m     \u001b[0mloss\u001b[0m \u001b[0;34m=\u001b[0m \u001b[0mlossfn\u001b[0m\u001b[0;34m(\u001b[0m\u001b[0moutput\u001b[0m\u001b[0;34m,\u001b[0m \u001b[0mVideoOut\u001b[0m\u001b[0;34m)\u001b[0m \u001b[0;34m+\u001b[0m \u001b[0mlossfn\u001b[0m\u001b[0;34m(\u001b[0m\u001b[0moutput_prof\u001b[0m\u001b[0;34m,\u001b[0m \u001b[0mVideoOut\u001b[0m\u001b[0;34m)\u001b[0m\u001b[0;34m\u001b[0m\u001b[0;34m\u001b[0m\u001b[0m\n\u001b[1;32m      4\u001b[0m     \u001b[0;32mif\u001b[0m \u001b[0;34m(\u001b[0m\u001b[0mi\u001b[0m\u001b[0;34m%\u001b[0m\u001b[0mdelay\u001b[0m \u001b[0;34m==\u001b[0m \u001b[0;36m0\u001b[0m\u001b[0;34m)\u001b[0m\u001b[0;34m:\u001b[0m\u001b[0;34m\u001b[0m\u001b[0;34m\u001b[0m\u001b[0m\n\u001b[1;32m      5\u001b[0m         \u001b[0mprint\u001b[0m\u001b[0;34m(\u001b[0m\u001b[0mloss\u001b[0m\u001b[0;34m.\u001b[0m\u001b[0mitem\u001b[0m\u001b[0;34m(\u001b[0m\u001b[0;34m)\u001b[0m\u001b[0;34m)\u001b[0m\u001b[0;34m\u001b[0m\u001b[0;34m\u001b[0m\u001b[0m\n",
      "\u001b[0;32m~/miniconda3/envs/torch-dev/lib/python3.8/site-packages/torch/nn/modules/module.py\u001b[0m in \u001b[0;36m_call_impl\u001b[0;34m(self, *input, **kwargs)\u001b[0m\n\u001b[1;32m    870\u001b[0m         if not (self._backward_hooks or self._forward_hooks or self._forward_pre_hooks or _global_backward_hooks\n\u001b[1;32m    871\u001b[0m                 or _global_forward_hooks or _global_forward_pre_hooks):\n\u001b[0;32m--> 872\u001b[0;31m             \u001b[0;32mreturn\u001b[0m \u001b[0mforward_call\u001b[0m\u001b[0;34m(\u001b[0m\u001b[0;34m*\u001b[0m\u001b[0minput\u001b[0m\u001b[0;34m,\u001b[0m \u001b[0;34m**\u001b[0m\u001b[0mkwargs\u001b[0m\u001b[0;34m)\u001b[0m\u001b[0;34m\u001b[0m\u001b[0;34m\u001b[0m\u001b[0m\n\u001b[0m\u001b[1;32m    873\u001b[0m         \u001b[0;31m# Do not call functions when jit is used\u001b[0m\u001b[0;34m\u001b[0m\u001b[0;34m\u001b[0m\u001b[0;34m\u001b[0m\u001b[0m\n\u001b[1;32m    874\u001b[0m         \u001b[0mfull_backward_hooks\u001b[0m\u001b[0;34m,\u001b[0m \u001b[0mnon_full_backward_hooks\u001b[0m \u001b[0;34m=\u001b[0m \u001b[0;34m[\u001b[0m\u001b[0;34m]\u001b[0m\u001b[0;34m,\u001b[0m \u001b[0;34m[\u001b[0m\u001b[0;34m]\u001b[0m\u001b[0;34m\u001b[0m\u001b[0;34m\u001b[0m\u001b[0m\n",
      "\u001b[0;32m<ipython-input-18-b4e2d070f342>\u001b[0m in \u001b[0;36mforward\u001b[0;34m(self, X, frames, flag)\u001b[0m\n\u001b[1;32m     26\u001b[0m \u001b[0;34m\u001b[0m\u001b[0m\n\u001b[1;32m     27\u001b[0m             \u001b[0;32mif\u001b[0m\u001b[0;34m(\u001b[0m\u001b[0mflag\u001b[0m\u001b[0;34m)\u001b[0m\u001b[0;34m:\u001b[0m\u001b[0;34m\u001b[0m\u001b[0;34m\u001b[0m\u001b[0m\n\u001b[0;32m---> 28\u001b[0;31m                 \u001b[0mproforce\u001b[0m \u001b[0;34m=\u001b[0m \u001b[0mtorch\u001b[0m\u001b[0;34m.\u001b[0m\u001b[0mmatmul\u001b[0m\u001b[0;34m(\u001b[0m\u001b[0mself\u001b[0m\u001b[0;34m.\u001b[0m\u001b[0mW\u001b[0m\u001b[0;34m,\u001b[0m \u001b[0mX\u001b[0m\u001b[0;34m)\u001b[0m \u001b[0;34m+\u001b[0m \u001b[0mself\u001b[0m\u001b[0;34m.\u001b[0m\u001b[0mb\u001b[0m\u001b[0;34m\u001b[0m\u001b[0;34m\u001b[0m\u001b[0m\n\u001b[0m\u001b[1;32m     29\u001b[0m                 \u001b[0mframe\u001b[0m \u001b[0;34m=\u001b[0m \u001b[0mproforce\u001b[0m \u001b[0;34m+\u001b[0m \u001b[0mself\u001b[0m\u001b[0;34m.\u001b[0m\u001b[0mdt\u001b[0m\u001b[0;34m*\u001b[0m\u001b[0mproforce\u001b[0m\u001b[0;34m\u001b[0m\u001b[0;34m\u001b[0m\u001b[0m\n\u001b[1;32m     30\u001b[0m                 \u001b[0moutput_prof\u001b[0m\u001b[0;34m.\u001b[0m\u001b[0mappend\u001b[0m\u001b[0;34m(\u001b[0m\u001b[0mframe\u001b[0m\u001b[0;34m)\u001b[0m\u001b[0;34m\u001b[0m\u001b[0;34m\u001b[0m\u001b[0m\n",
      "\u001b[0;31mKeyboardInterrupt\u001b[0m: "
     ]
    }
   ],
   "source": [
    "for i in range(n_epochs):\n",
    "    output, output_prof = rnn(VideoIn, 66, True)\n",
    "    loss = lossfn(output, VideoOut) + lossfn(output_prof, VideoOut)\n",
    "    if (i%delay == 0):\n",
    "        print(loss.item())\n",
    "    loss.backward()\n",
    "    optimizer.step()"
   ]
  },
  {
   "cell_type": "code",
   "execution_count": 26,
   "metadata": {},
   "outputs": [
    {
     "name": "stdout",
     "output_type": "stream",
     "text": [
      "(66, 64, 64)\n",
      "[[[224.70221 228.26314 228.26314 ... 228.26314 228.26314 228.26314]\n",
      "  [224.70221 228.26314 228.26314 ... 228.26314 228.26314 228.26314]\n",
      "  [224.70221 228.26314 228.26314 ... 228.26314 228.26314 228.26314]\n",
      "  ...\n",
      "  [224.70221 228.26314 228.26314 ... 228.26314 228.26314 228.26314]\n",
      "  [224.70221 228.26314 228.26314 ... 228.26314 228.26314 228.26314]\n",
      "  [224.70221 228.26314 228.26314 ... 228.26314 228.26314 228.26314]]\n",
      "\n",
      " [[217.57317 224.70218 228.26314 ... 228.26314 228.26314 228.26314]\n",
      "  [217.57317 224.70218 228.26314 ... 228.26314 228.26314 228.26314]\n",
      "  [217.57317 224.70218 228.26314 ... 228.26314 228.26314 228.26314]\n",
      "  ...\n",
      "  [217.57317 224.70218 228.26314 ... 228.26314 228.26314 228.26314]\n",
      "  [217.57317 224.70218 228.26314 ... 228.26314 228.26314 228.26314]\n",
      "  [217.57317 224.70218 228.26314 ... 228.26314 228.26314 228.26314]]\n",
      "\n",
      " [[224.70221 217.57314 224.70218 ... 228.26314 228.26314 228.26314]\n",
      "  [224.70221 217.57314 224.70218 ... 228.26314 228.26314 228.26314]\n",
      "  [224.70221 217.57314 224.70218 ... 228.26314 228.26314 228.26314]\n",
      "  ...\n",
      "  [224.70221 217.57314 224.70218 ... 228.26314 228.26314 228.26314]\n",
      "  [224.70221 217.57314 224.70218 ... 228.26314 228.26314 228.26314]\n",
      "  [224.70221 217.57314 224.70218 ... 228.26314 228.26314 228.26314]]\n",
      "\n",
      " ...\n",
      "\n",
      " [[228.26317 228.26314 228.26314 ... 224.70218 217.57314 224.70218]\n",
      "  [228.26317 228.26314 228.26314 ... 224.70218 217.57314 224.70218]\n",
      "  [228.26317 228.26314 228.26314 ... 224.70218 217.57314 224.70218]\n",
      "  ...\n",
      "  [228.26317 228.26314 228.26314 ... 224.70218 217.57314 224.70218]\n",
      "  [228.26317 228.26314 228.26314 ... 224.70218 217.57314 224.70218]\n",
      "  [228.26317 228.26314 228.26314 ... 224.70218 217.57314 224.70218]]\n",
      "\n",
      " [[228.26317 228.26314 228.26314 ... 228.26314 224.70218 217.57314]\n",
      "  [228.26317 228.26314 228.26314 ... 228.26314 224.70218 217.57314]\n",
      "  [228.26317 228.26314 228.26314 ... 228.26314 224.70218 217.57314]\n",
      "  ...\n",
      "  [228.26317 228.26314 228.26314 ... 228.26314 224.70218 217.57314]\n",
      "  [228.26317 228.26314 228.26314 ... 228.26314 224.70218 217.57314]\n",
      "  [228.26317 228.26314 228.26314 ... 228.26314 224.70218 217.57314]]\n",
      "\n",
      " [[228.26317 228.26314 228.26314 ... 228.26314 228.26315 224.7022 ]\n",
      "  [228.26317 228.26314 228.26314 ... 228.26314 228.26315 224.7022 ]\n",
      "  [228.26317 228.26314 228.26314 ... 228.26314 228.26315 224.7022 ]\n",
      "  ...\n",
      "  [228.26317 228.26314 228.26314 ... 228.26314 228.26315 224.7022 ]\n",
      "  [228.26317 228.26314 228.26314 ... 228.26314 228.26315 224.7022 ]\n",
      "  [228.26317 228.26314 228.26314 ... 228.26314 228.26315 224.7022 ]]]\n",
      "torch.Size([66, 66, 64, 64])\n"
     ]
    },
    {
     "ename": "TypeError",
     "evalue": "Invalid shape (66, 64, 64) for image data",
     "output_type": "error",
     "traceback": [
      "\u001b[0;31m---------------------------------------------------------------------------\u001b[0m",
      "\u001b[0;31mTypeError\u001b[0m                                 Traceback (most recent call last)",
      "\u001b[0;32m<ipython-input-26-5faed3ad194b>\u001b[0m in \u001b[0;36m<module>\u001b[0;34m\u001b[0m\n\u001b[1;32m      4\u001b[0m \u001b[0mprint\u001b[0m\u001b[0;34m(\u001b[0m\u001b[0moutput_prof\u001b[0m\u001b[0;34m.\u001b[0m\u001b[0mdetach\u001b[0m\u001b[0;34m(\u001b[0m\u001b[0;34m)\u001b[0m\u001b[0;34m.\u001b[0m\u001b[0mnumpy\u001b[0m\u001b[0;34m(\u001b[0m\u001b[0;34m)\u001b[0m\u001b[0;34m[\u001b[0m\u001b[0mindex\u001b[0m\u001b[0;34m]\u001b[0m\u001b[0;34m)\u001b[0m\u001b[0;34m\u001b[0m\u001b[0;34m\u001b[0m\u001b[0m\n\u001b[1;32m      5\u001b[0m \u001b[0mprint\u001b[0m\u001b[0;34m(\u001b[0m\u001b[0moutput_prof\u001b[0m\u001b[0;34m.\u001b[0m\u001b[0mshape\u001b[0m\u001b[0;34m)\u001b[0m\u001b[0;34m\u001b[0m\u001b[0;34m\u001b[0m\u001b[0m\n\u001b[0;32m----> 6\u001b[0;31m \u001b[0mplt\u001b[0m\u001b[0;34m.\u001b[0m\u001b[0mimshow\u001b[0m\u001b[0;34m(\u001b[0m\u001b[0moutput_prof\u001b[0m\u001b[0;34m.\u001b[0m\u001b[0mdetach\u001b[0m\u001b[0;34m(\u001b[0m\u001b[0;34m)\u001b[0m\u001b[0;34m.\u001b[0m\u001b[0mnumpy\u001b[0m\u001b[0;34m(\u001b[0m\u001b[0;34m)\u001b[0m\u001b[0;34m[\u001b[0m\u001b[0mindex\u001b[0m\u001b[0;34m]\u001b[0m\u001b[0;34m)\u001b[0m\u001b[0;34m\u001b[0m\u001b[0;34m\u001b[0m\u001b[0m\n\u001b[0m\u001b[1;32m      7\u001b[0m \u001b[0mplt\u001b[0m\u001b[0;34m.\u001b[0m\u001b[0mshow\u001b[0m\u001b[0;34m(\u001b[0m\u001b[0;34m)\u001b[0m\u001b[0;34m\u001b[0m\u001b[0;34m\u001b[0m\u001b[0m\n\u001b[1;32m      8\u001b[0m \u001b[0mplt\u001b[0m\u001b[0;34m.\u001b[0m\u001b[0mimshow\u001b[0m\u001b[0;34m(\u001b[0m\u001b[0mVideoTrain\u001b[0m\u001b[0;34m.\u001b[0m\u001b[0mdetach\u001b[0m\u001b[0;34m(\u001b[0m\u001b[0;34m)\u001b[0m\u001b[0;34m.\u001b[0m\u001b[0mnumpy\u001b[0m\u001b[0;34m(\u001b[0m\u001b[0;34m)\u001b[0m\u001b[0;34m[\u001b[0m\u001b[0mindex\u001b[0m\u001b[0;34m]\u001b[0m\u001b[0;34m)\u001b[0m\u001b[0;34m\u001b[0m\u001b[0;34m\u001b[0m\u001b[0m\n",
      "\u001b[0;32m~/miniconda3/envs/torch-dev/lib/python3.8/site-packages/matplotlib/pyplot.py\u001b[0m in \u001b[0;36mimshow\u001b[0;34m(X, cmap, norm, aspect, interpolation, alpha, vmin, vmax, origin, extent, filternorm, filterrad, resample, url, data, **kwargs)\u001b[0m\n\u001b[1;32m   2722\u001b[0m         \u001b[0mfilternorm\u001b[0m\u001b[0;34m=\u001b[0m\u001b[0;32mTrue\u001b[0m\u001b[0;34m,\u001b[0m \u001b[0mfilterrad\u001b[0m\u001b[0;34m=\u001b[0m\u001b[0;36m4.0\u001b[0m\u001b[0;34m,\u001b[0m \u001b[0mresample\u001b[0m\u001b[0;34m=\u001b[0m\u001b[0;32mNone\u001b[0m\u001b[0;34m,\u001b[0m \u001b[0murl\u001b[0m\u001b[0;34m=\u001b[0m\u001b[0;32mNone\u001b[0m\u001b[0;34m,\u001b[0m\u001b[0;34m\u001b[0m\u001b[0;34m\u001b[0m\u001b[0m\n\u001b[1;32m   2723\u001b[0m         data=None, **kwargs):\n\u001b[0;32m-> 2724\u001b[0;31m     __ret = gca().imshow(\n\u001b[0m\u001b[1;32m   2725\u001b[0m         \u001b[0mX\u001b[0m\u001b[0;34m,\u001b[0m \u001b[0mcmap\u001b[0m\u001b[0;34m=\u001b[0m\u001b[0mcmap\u001b[0m\u001b[0;34m,\u001b[0m \u001b[0mnorm\u001b[0m\u001b[0;34m=\u001b[0m\u001b[0mnorm\u001b[0m\u001b[0;34m,\u001b[0m \u001b[0maspect\u001b[0m\u001b[0;34m=\u001b[0m\u001b[0maspect\u001b[0m\u001b[0;34m,\u001b[0m\u001b[0;34m\u001b[0m\u001b[0;34m\u001b[0m\u001b[0m\n\u001b[1;32m   2726\u001b[0m         \u001b[0minterpolation\u001b[0m\u001b[0;34m=\u001b[0m\u001b[0minterpolation\u001b[0m\u001b[0;34m,\u001b[0m \u001b[0malpha\u001b[0m\u001b[0;34m=\u001b[0m\u001b[0malpha\u001b[0m\u001b[0;34m,\u001b[0m \u001b[0mvmin\u001b[0m\u001b[0;34m=\u001b[0m\u001b[0mvmin\u001b[0m\u001b[0;34m,\u001b[0m\u001b[0;34m\u001b[0m\u001b[0;34m\u001b[0m\u001b[0m\n",
      "\u001b[0;32m~/miniconda3/envs/torch-dev/lib/python3.8/site-packages/matplotlib/__init__.py\u001b[0m in \u001b[0;36minner\u001b[0;34m(ax, data, *args, **kwargs)\u001b[0m\n\u001b[1;32m   1445\u001b[0m     \u001b[0;32mdef\u001b[0m \u001b[0minner\u001b[0m\u001b[0;34m(\u001b[0m\u001b[0max\u001b[0m\u001b[0;34m,\u001b[0m \u001b[0;34m*\u001b[0m\u001b[0margs\u001b[0m\u001b[0;34m,\u001b[0m \u001b[0mdata\u001b[0m\u001b[0;34m=\u001b[0m\u001b[0;32mNone\u001b[0m\u001b[0;34m,\u001b[0m \u001b[0;34m**\u001b[0m\u001b[0mkwargs\u001b[0m\u001b[0;34m)\u001b[0m\u001b[0;34m:\u001b[0m\u001b[0;34m\u001b[0m\u001b[0;34m\u001b[0m\u001b[0m\n\u001b[1;32m   1446\u001b[0m         \u001b[0;32mif\u001b[0m \u001b[0mdata\u001b[0m \u001b[0;32mis\u001b[0m \u001b[0;32mNone\u001b[0m\u001b[0;34m:\u001b[0m\u001b[0;34m\u001b[0m\u001b[0;34m\u001b[0m\u001b[0m\n\u001b[0;32m-> 1447\u001b[0;31m             \u001b[0;32mreturn\u001b[0m \u001b[0mfunc\u001b[0m\u001b[0;34m(\u001b[0m\u001b[0max\u001b[0m\u001b[0;34m,\u001b[0m \u001b[0;34m*\u001b[0m\u001b[0mmap\u001b[0m\u001b[0;34m(\u001b[0m\u001b[0msanitize_sequence\u001b[0m\u001b[0;34m,\u001b[0m \u001b[0margs\u001b[0m\u001b[0;34m)\u001b[0m\u001b[0;34m,\u001b[0m \u001b[0;34m**\u001b[0m\u001b[0mkwargs\u001b[0m\u001b[0;34m)\u001b[0m\u001b[0;34m\u001b[0m\u001b[0;34m\u001b[0m\u001b[0m\n\u001b[0m\u001b[1;32m   1448\u001b[0m \u001b[0;34m\u001b[0m\u001b[0m\n\u001b[1;32m   1449\u001b[0m         \u001b[0mbound\u001b[0m \u001b[0;34m=\u001b[0m \u001b[0mnew_sig\u001b[0m\u001b[0;34m.\u001b[0m\u001b[0mbind\u001b[0m\u001b[0;34m(\u001b[0m\u001b[0max\u001b[0m\u001b[0;34m,\u001b[0m \u001b[0;34m*\u001b[0m\u001b[0margs\u001b[0m\u001b[0;34m,\u001b[0m \u001b[0;34m**\u001b[0m\u001b[0mkwargs\u001b[0m\u001b[0;34m)\u001b[0m\u001b[0;34m\u001b[0m\u001b[0;34m\u001b[0m\u001b[0m\n",
      "\u001b[0;32m~/miniconda3/envs/torch-dev/lib/python3.8/site-packages/matplotlib/axes/_axes.py\u001b[0m in \u001b[0;36mimshow\u001b[0;34m(self, X, cmap, norm, aspect, interpolation, alpha, vmin, vmax, origin, extent, filternorm, filterrad, resample, url, **kwargs)\u001b[0m\n\u001b[1;32m   5521\u001b[0m                               resample=resample, **kwargs)\n\u001b[1;32m   5522\u001b[0m \u001b[0;34m\u001b[0m\u001b[0m\n\u001b[0;32m-> 5523\u001b[0;31m         \u001b[0mim\u001b[0m\u001b[0;34m.\u001b[0m\u001b[0mset_data\u001b[0m\u001b[0;34m(\u001b[0m\u001b[0mX\u001b[0m\u001b[0;34m)\u001b[0m\u001b[0;34m\u001b[0m\u001b[0;34m\u001b[0m\u001b[0m\n\u001b[0m\u001b[1;32m   5524\u001b[0m         \u001b[0mim\u001b[0m\u001b[0;34m.\u001b[0m\u001b[0mset_alpha\u001b[0m\u001b[0;34m(\u001b[0m\u001b[0malpha\u001b[0m\u001b[0;34m)\u001b[0m\u001b[0;34m\u001b[0m\u001b[0;34m\u001b[0m\u001b[0m\n\u001b[1;32m   5525\u001b[0m         \u001b[0;32mif\u001b[0m \u001b[0mim\u001b[0m\u001b[0;34m.\u001b[0m\u001b[0mget_clip_path\u001b[0m\u001b[0;34m(\u001b[0m\u001b[0;34m)\u001b[0m \u001b[0;32mis\u001b[0m \u001b[0;32mNone\u001b[0m\u001b[0;34m:\u001b[0m\u001b[0;34m\u001b[0m\u001b[0;34m\u001b[0m\u001b[0m\n",
      "\u001b[0;32m~/miniconda3/envs/torch-dev/lib/python3.8/site-packages/matplotlib/image.py\u001b[0m in \u001b[0;36mset_data\u001b[0;34m(self, A)\u001b[0m\n\u001b[1;32m    709\u001b[0m         if not (self._A.ndim == 2\n\u001b[1;32m    710\u001b[0m                 or self._A.ndim == 3 and self._A.shape[-1] in [3, 4]):\n\u001b[0;32m--> 711\u001b[0;31m             raise TypeError(\"Invalid shape {} for image data\"\n\u001b[0m\u001b[1;32m    712\u001b[0m                             .format(self._A.shape))\n\u001b[1;32m    713\u001b[0m \u001b[0;34m\u001b[0m\u001b[0m\n",
      "\u001b[0;31mTypeError\u001b[0m: Invalid shape (66, 64, 64) for image data"
     ]
    },
    {
     "data": {
      "image/png": "[encoded data removed]",
      "text/plain": [
       "<Figure size 432x288 with 1 Axes>"
      ]
     },
     "metadata": {
      "needs_background": "light"
     },
     "output_type": "display_data"
    }
   ],
   "source": [
    "index=20\n",
    "output, output_prof = rnn(VideoIn, 66, True)\n",
    "print(output_prof.detach().numpy()[index].shape)\n",
    "print(output_prof.detach().numpy()[index])\n",
    "print(output_prof.shape)\n",
    "plt.imshow(output_prof.detach().numpy()[index])\n",
    "plt.show()\n",
    "plt.imshow(VideoTrain.detach().numpy()[index])\n",
    "plt.show()\n",
    "print(VideoTrain.detach().numpy()[index])"
   ]
  },
  {
   "cell_type": "code",
   "execution_count": 155,
   "metadata": {},
   "outputs": [
    {
     "name": "stdout",
     "output_type": "stream",
     "text": [
      "torch.Size([66, 64, 64])\n"
     ]
    }
   ],
   "source": [
    "print(list(rnn.parameters())[1].shape)"
   ]
  },
  {
   "cell_type": "code",
   "execution_count": 158,
   "metadata": {},
   "outputs": [
    {
     "name": "stdout",
     "output_type": "stream",
     "text": [
      "66\n"
     ]
    }
   ],
   "source": [
    "height = 64\n",
    "width = 64\n",
    "fourcc = VideoWriter_fourcc(*'MP42')\n",
    "video = VideoWriter('./data/project.avi', fourcc, float(24), (width, height))\n",
    "output, output_prof = rnn(VideoIn, 66, True)\n",
    "print(len(output))\n",
    "for i in range(len(output)):   \n",
    "    video.write(cv2.cvtColor((output_prof[i].detach().numpy()*255).astype(np.uint8),cv2.COLOR_GRAY2BGR))\n",
    "video.release()"
   ]
  },
  {
   "cell_type": "code",
   "execution_count": 159,
   "metadata": {},
   "outputs": [
    {
     "name": "stdout",
     "output_type": "stream",
     "text": [
      "[Parameter containing:\n",
      "tensor([[[0.0139, 0.0139, 0.0139,  ..., 0.0139, 0.0139, 0.0139],\n",
      "         [0.0139, 0.0139, 0.0139,  ..., 0.0139, 0.0139, 0.0139],\n",
      "         [0.0139, 0.0139, 0.0139,  ..., 0.0139, 0.0139, 0.0139],\n",
      "         ...,\n",
      "         [0.0139, 0.0139, 0.0139,  ..., 0.0139, 0.0139, 0.0139],\n",
      "         [0.0139, 0.0139, 0.0139,  ..., 0.0139, 0.0139, 0.0139],\n",
      "         [0.0139, 0.0139, 0.0139,  ..., 0.0139, 0.0139, 0.0139]],\n",
      "\n",
      "        [[0.0139, 0.0139, 0.0139,  ..., 0.0139, 0.0139, 0.0139],\n",
      "         [0.0139, 0.0139, 0.0139,  ..., 0.0139, 0.0139, 0.0139],\n",
      "         [0.0139, 0.0139, 0.0139,  ..., 0.0139, 0.0139, 0.0139],\n",
      "         ...,\n",
      "         [0.0139, 0.0139, 0.0139,  ..., 0.0139, 0.0139, 0.0139],\n",
      "         [0.0139, 0.0139, 0.0139,  ..., 0.0139, 0.0139, 0.0139],\n",
      "         [0.0139, 0.0139, 0.0139,  ..., 0.0139, 0.0139, 0.0139]],\n",
      "\n",
      "        [[0.0133, 0.0133, 0.0133,  ..., 0.0133, 0.0133, 0.0133],\n",
      "         [0.0133, 0.0133, 0.0133,  ..., 0.0133, 0.0133, 0.0133],\n",
      "         [0.0133, 0.0133, 0.0133,  ..., 0.0133, 0.0133, 0.0133],\n",
      "         ...,\n",
      "         [0.0133, 0.0133, 0.0133,  ..., 0.0133, 0.0133, 0.0133],\n",
      "         [0.0133, 0.0133, 0.0133,  ..., 0.0133, 0.0133, 0.0133],\n",
      "         [0.0133, 0.0133, 0.0133,  ..., 0.0133, 0.0133, 0.0133]],\n",
      "\n",
      "        ...,\n",
      "\n",
      "        [[0.0164, 0.0164, 0.0164,  ..., 0.0164, 0.0164, 0.0164],\n",
      "         [0.0164, 0.0164, 0.0164,  ..., 0.0164, 0.0164, 0.0164],\n",
      "         [0.0164, 0.0164, 0.0164,  ..., 0.0164, 0.0164, 0.0164],\n",
      "         ...,\n",
      "         [0.0164, 0.0164, 0.0164,  ..., 0.0164, 0.0164, 0.0164],\n",
      "         [0.0164, 0.0164, 0.0164,  ..., 0.0164, 0.0164, 0.0164],\n",
      "         [0.0164, 0.0164, 0.0164,  ..., 0.0164, 0.0164, 0.0164]],\n",
      "\n",
      "        [[0.0164, 0.0164, 0.0164,  ..., 0.0164, 0.0164, 0.0164],\n",
      "         [0.0164, 0.0164, 0.0164,  ..., 0.0164, 0.0164, 0.0164],\n",
      "         [0.0164, 0.0164, 0.0164,  ..., 0.0164, 0.0164, 0.0164],\n",
      "         ...,\n",
      "         [0.0164, 0.0164, 0.0164,  ..., 0.0164, 0.0164, 0.0164],\n",
      "         [0.0164, 0.0164, 0.0164,  ..., 0.0164, 0.0164, 0.0164],\n",
      "         [0.0164, 0.0164, 0.0164,  ..., 0.0164, 0.0164, 0.0164]],\n",
      "\n",
      "        [[0.0165, 0.0165, 0.0165,  ..., 0.0165, 0.0165, 0.0165],\n",
      "         [0.0165, 0.0165, 0.0165,  ..., 0.0165, 0.0165, 0.0165],\n",
      "         [0.0165, 0.0165, 0.0165,  ..., 0.0165, 0.0165, 0.0165],\n",
      "         ...,\n",
      "         [0.0165, 0.0165, 0.0165,  ..., 0.0165, 0.0165, 0.0165],\n",
      "         [0.0165, 0.0165, 0.0165,  ..., 0.0165, 0.0165, 0.0165],\n",
      "         [0.0165, 0.0165, 0.0165,  ..., 0.0165, 0.0165, 0.0165]]],\n",
      "       requires_grad=True), Parameter containing:\n",
      "tensor([[[0.0141, 0.0138, 0.0138,  ..., 0.0139, 0.0139, 0.0139],\n",
      "         [0.0141, 0.0138, 0.0138,  ..., 0.0139, 0.0139, 0.0139],\n",
      "         [0.0141, 0.0138, 0.0138,  ..., 0.0139, 0.0139, 0.0139],\n",
      "         ...,\n",
      "         [0.0141, 0.0138, 0.0138,  ..., 0.0139, 0.0139, 0.0139],\n",
      "         [0.0141, 0.0138, 0.0138,  ..., 0.0139, 0.0139, 0.0139],\n",
      "         [0.0141, 0.0138, 0.0138,  ..., 0.0139, 0.0139, 0.0139]],\n",
      "\n",
      "        [[0.0149, 0.0147, 0.0146,  ..., 0.0147, 0.0147, 0.0147],\n",
      "         [0.0149, 0.0147, 0.0146,  ..., 0.0147, 0.0147, 0.0147],\n",
      "         [0.0149, 0.0147, 0.0146,  ..., 0.0147, 0.0147, 0.0147],\n",
      "         ...,\n",
      "         [0.0149, 0.0147, 0.0146,  ..., 0.0147, 0.0147, 0.0147],\n",
      "         [0.0149, 0.0147, 0.0146,  ..., 0.0147, 0.0147, 0.0147],\n",
      "         [0.0149, 0.0147, 0.0146,  ..., 0.0147, 0.0147, 0.0147]],\n",
      "\n",
      "        [[0.0156, 0.0154, 0.0154,  ..., 0.0154, 0.0154, 0.0154],\n",
      "         [0.0156, 0.0154, 0.0154,  ..., 0.0154, 0.0154, 0.0154],\n",
      "         [0.0156, 0.0154, 0.0154,  ..., 0.0154, 0.0154, 0.0154],\n",
      "         ...,\n",
      "         [0.0156, 0.0154, 0.0154,  ..., 0.0154, 0.0154, 0.0154],\n",
      "         [0.0156, 0.0154, 0.0154,  ..., 0.0154, 0.0154, 0.0154],\n",
      "         [0.0156, 0.0154, 0.0154,  ..., 0.0154, 0.0154, 0.0154]],\n",
      "\n",
      "        ...,\n",
      "\n",
      "        [[0.0184, 0.0184, 0.0184,  ..., 0.0185, 0.0185, 0.0184],\n",
      "         [0.0184, 0.0184, 0.0184,  ..., 0.0185, 0.0185, 0.0184],\n",
      "         [0.0184, 0.0184, 0.0184,  ..., 0.0185, 0.0185, 0.0184],\n",
      "         ...,\n",
      "         [0.0184, 0.0184, 0.0184,  ..., 0.0185, 0.0185, 0.0184],\n",
      "         [0.0184, 0.0184, 0.0184,  ..., 0.0185, 0.0185, 0.0184],\n",
      "         [0.0184, 0.0184, 0.0184,  ..., 0.0185, 0.0185, 0.0184]],\n",
      "\n",
      "        [[0.0181, 0.0181, 0.0181,  ..., 0.0181, 0.0181, 0.0181],\n",
      "         [0.0181, 0.0181, 0.0181,  ..., 0.0181, 0.0181, 0.0181],\n",
      "         [0.0181, 0.0181, 0.0181,  ..., 0.0181, 0.0181, 0.0181],\n",
      "         ...,\n",
      "         [0.0181, 0.0181, 0.0181,  ..., 0.0181, 0.0181, 0.0181],\n",
      "         [0.0181, 0.0181, 0.0181,  ..., 0.0181, 0.0181, 0.0181],\n",
      "         [0.0181, 0.0181, 0.0181,  ..., 0.0181, 0.0181, 0.0181]],\n",
      "\n",
      "        [[0.0174, 0.0174, 0.0174,  ..., 0.0174, 0.0174, 0.0175],\n",
      "         [0.0174, 0.0174, 0.0174,  ..., 0.0174, 0.0174, 0.0175],\n",
      "         [0.0174, 0.0174, 0.0174,  ..., 0.0174, 0.0174, 0.0175],\n",
      "         ...,\n",
      "         [0.0174, 0.0174, 0.0174,  ..., 0.0174, 0.0174, 0.0175],\n",
      "         [0.0174, 0.0174, 0.0174,  ..., 0.0174, 0.0174, 0.0175],\n",
      "         [0.0174, 0.0174, 0.0174,  ..., 0.0174, 0.0174, 0.0175]]],\n",
      "       requires_grad=True)]\n"
     ]
    }
   ],
   "source": [
    "print(optimizer.param_groups[0]['params'])"
   ]
  },
  {
   "cell_type": "code",
   "execution_count": null,
   "metadata": {},
   "outputs": [],
   "source": []
  }
 ],
 "metadata": {
  "kernelspec": {
   "display_name": "Python 3",
   "language": "python",
   "name": "python3"
  },
  "language_info": {
   "codemirror_mode": {
    "name": "ipython",
    "version": 3
   },
   "file_extension": ".py",
   "mimetype": "text/x-python",
   "name": "python",
   "nbconvert_exporter": "python",
   "pygments_lexer": "ipython3",
   "version": "3.8.5"
  }
 },
 "nbformat": 4,
 "nbformat_minor": 4
}
