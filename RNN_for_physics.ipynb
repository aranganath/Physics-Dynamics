{
 "cells": [
  {
   "cell_type": "code",
   "execution_count": 7,
   "metadata": {},
   "outputs": [],
   "source": [
    "import cv2\n",
    "import numpy as np\n",
    "from cv2 import VideoWriter, VideoWriter_fourcc\n",
    "from pdb import set_trace\n",
    "import matplotlib.pyplot as plt\n",
    "import torch\n",
    "import torch.nn as nn\n",
    "from pdb import set_trace"
   ]
  },
  {
   "cell_type": "code",
   "execution_count": 18,
   "metadata": {},
   "outputs": [],
   "source": [
    "width = 1280\n",
    "height = 720\n",
    "FPS = 24\n",
    "seconds = 10\n",
    "radius = 150\n",
    "paint_h = int(height/2)\n",
    "\n",
    "fourcc = VideoWriter_fourcc(*'MP42')\n",
    "video = VideoWriter('./data/circle_noise.avi', fourcc, float(FPS), (width, height))\n",
    "\n",
    "for paint_x in range(-radius, width+radius, 6):\n",
    "    frame = 255*np.ones( \n",
    "                   (height, width, 3), \n",
    "                              dtype=np.uint8)\n",
    "    cv2.circle(frame, (paint_x, paint_h), radius, (0, 0, 0), -1)\n",
    "    video.write(frame)\n",
    "\n",
    "video.release()\n",
    "\n",
    "Vc = cv2.VideoCapture('./data/circle_noise.avi')\n",
    "ret, frame = Vc.read()"
   ]
  },
  {
   "cell_type": "code",
   "execution_count": 19,
   "metadata": {},
   "outputs": [],
   "source": [
    "#Extract the images from the video\n",
    "Vid = []\n",
    "flag,frame = Vc.read()\n",
    "while(flag):\n",
    "    Vid.append(frame)\n",
    "    flag,frame = Vc.read()\n",
    "    \n",
    "npVid = np.stack(Vid, axis=0)"
   ]
  },
  {
   "cell_type": "code",
   "execution_count": 10,
   "metadata": {},
   "outputs": [],
   "source": [
    "#Define the architecture for the RNN\n",
    "\n",
    "\n",
    "class RNN(nn.Module):\n",
    "    def __init__(self, data):\n",
    "        super(self, RNN).__init__(data)\n",
    "        self.data = data\n",
    "        set_trace()\n",
    "    def forward(self):\n",
    "        return output\n",
    "        "
   ]
  },
  {
   "cell_type": "code",
   "execution_count": 14,
   "metadata": {},
   "outputs": [
    {
     "name": "stdout",
     "output_type": "stream",
     "text": [
      "262\n"
     ]
    }
   ],
   "source": []
  },
  {
   "cell_type": "code",
   "execution_count": null,
   "metadata": {},
   "outputs": [],
   "source": []
  }
 ],
 "metadata": {
  "kernelspec": {
   "display_name": "Python 3",
   "language": "python",
   "name": "python3"
  },
  "language_info": {
   "codemirror_mode": {
    "name": "ipython",
    "version": 3
   },
   "file_extension": ".py",
   "mimetype": "text/x-python",
   "name": "python",
   "nbconvert_exporter": "python",
   "pygments_lexer": "ipython3",
   "version": "3.8.5"
  }
 },
 "nbformat": 4,
 "nbformat_minor": 4
}
